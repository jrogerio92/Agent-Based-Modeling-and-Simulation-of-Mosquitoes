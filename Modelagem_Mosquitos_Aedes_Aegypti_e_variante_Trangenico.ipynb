{
  "nbformat": 4,
  "nbformat_minor": 0,
  "metadata": {
    "colab": {
      "name": "Modelagem - Mosquitos Aedes Aegypti e variante Trangenico.ipynb",
      "provenance": [],
      "collapsed_sections": [],
      "include_colab_link": true
    },
    "kernelspec": {
      "name": "python3",
      "display_name": "Python 3"
    }
  },
  "cells": [
    {
      "cell_type": "markdown",
      "metadata": {
        "id": "view-in-github",
        "colab_type": "text"
      },
      "source": [
        "<a href=\"https://colab.research.google.com/github/jrogerio92/Agent-Based-Modeling-and-Simulation-of-Mosquitoes/blob/master/Modelagem_Mosquitos_Aedes_Aegypti_e_variante_Trangenico.ipynb\" target=\"_parent\"><img src=\"https://colab.research.google.com/assets/colab-badge.svg\" alt=\"Open In Colab\"/></a>"
      ]
    },
    {
      "cell_type": "markdown",
      "metadata": {
        "id": "i2LTVa_DPZpy",
        "colab_type": "text"
      },
      "source": [
        "**Mundo**\n",
        "\n",
        "Unidade de Tempo da Simulação: Hora\n",
        "\n",
        "Unidade de Espaço da Simulação: Metro\n",
        "\n",
        "**Ciclo de Vida:**\n",
        "\n",
        "Tempo a ser estudado 60 Dias = 1440 Horas\n",
        "\n",
        "Mosquito Pronto: 10 Dias = 240  Horas\n",
        "\n",
        "Liberação dos mosquitos Trangenicos 17 dias (408 Horas) apos o inicia da simulação\n",
        "\n",
        "Qtde Maxima de Reproduçoões da Femea: 3. Dfinida para um intervalo de 240 Horas\n",
        "\n",
        "Tempo de Vida Total do Mosquito: Menos de 30 Dias. \n"
      ]
    },
    {
      "cell_type": "code",
      "metadata": {
        "id": "FoqPn-WVrEVE",
        "colab_type": "code",
        "colab": {}
      },
      "source": [
        "import random\n",
        "import numpy as np\n",
        "import matplotlib.pyplot as plt\n",
        "from pprint import pprint\n",
        "import math\n",
        "\n",
        "def rng():\n",
        "  np.random.seed(1337)\n",
        "\n",
        "# Parametros\n",
        "nMachos = 50\n",
        "nFemeas = 50\n",
        "# Insira Abaixo Quantos mosquitos Trangenicos Serão inseridos na Simulação\n",
        "nMachosTran = 25\n",
        "\n",
        "#Tempo de Simulação\n",
        "sim_time = 1440\n",
        "# sim_time = 1440 #Padrão\n",
        "\n",
        "\n",
        "# Regras\n",
        "minTimeToBreed = 240 # Horas\n",
        "readyAge = 240 # Horas\n",
        "maxAge = 720 # Horas\n",
        "minEggs = 5\n",
        "maxEggs = 15\n",
        "worldSize = 150 # Metros"
      ],
      "execution_count": 0,
      "outputs": []
    },
    {
      "cell_type": "markdown",
      "metadata": {
        "id": "Y8kcYyg_oL55",
        "colab_type": "text"
      },
      "source": [
        "**Classes Mosquitos**\n",
        "\n",
        "---\n"
      ]
    },
    {
      "cell_type": "code",
      "metadata": {
        "id": "lofeHdGyw32Q",
        "colab_type": "code",
        "colab": {}
      },
      "source": [
        "class Mosquito:\n",
        "    def __init__(self, sex, category, age=0):\n",
        "      self.px = np.random.randint(worldSize)\n",
        "      self.py = np.random.randint(worldSize)\n",
        "      self.age = age\n",
        "      self.direction = np.random.randint(360)\n",
        "      self.sex = sex\n",
        "      self.category = category\n",
        " \n",
        "    def flyRandomly(self):\n",
        "      if (self.age > readyAge):\n",
        "        self.px += math.ceil(5*np.sin(np.radians(self.direction)))\n",
        "        self.py += math.ceil(5*np.cos(np.radians(self.direction)))\n",
        "        # Colisão com a Parede do mundo\n",
        "        if(self.px<0 or self.px > worldSize or self.py <0 or self.py > worldSize):\n",
        "            self.direction = (self.direction+180)%360\n",
        "\n",
        "    def setAge(self, age):\n",
        "      self.age = age\n",
        "\n",
        "    def increaseAge(self, x=1):\n",
        "      self.age += x\n",
        "\n",
        "    def death(self, mosquitoes=[]):\n",
        "      pass\n",
        "      mosquitoes.remove(self)\n",
        "\n",
        "    def checkDeathAge(self):\n",
        "      if((self.age * np.random.uniform(0.5,1.5)) > maxAge):\n",
        "        return True\n",
        "      else:\n",
        "        return False  \n",
        "\n",
        "class FemaleMosquito(Mosquito):\n",
        "  def __init__(self, sex, category, age=0, readyToBreedDelay=0):\n",
        "    super(FemaleMosquito, self).__init__(sex,category,age)\n",
        "    self.readyToBreedDelay = readyToBreedDelay\n",
        "\n",
        "  # Verifica a Colisão das Femas com os Machos\n",
        "  def checkColision(self, mosquito):\n",
        "    # print('Checando colisao de', self.sex, self.category, 'Com', mosquito.sex, mosquito.category)\n",
        "    if (self.px == mosquito.px and self.py == mosquito.py): \n",
        "      return True\n",
        "    else:\n",
        "      return False\n",
        "\n",
        "  def increaseReadyToBreedDelay(self):\n",
        "    self.readyToBreedDelay += 1\n",
        "\n",
        "  def breeding(self, mosquitoes, mosquito_M):\n",
        "    if (self.age > readyAge and \n",
        "        self.readyToBreedDelay >= minTimeToBreed and \n",
        "        mosquito_M.age > readyAge):\n",
        "      self.readyToBreedDelay = 0\n",
        "      if (mosquito_M.category == 'N'):\n",
        "        nBreeding = np.random.randint(minEggs,maxEggs)\n",
        "        for x in range(nBreeding):\n",
        "          if np.random.randint(2) == 0:\n",
        "            mosquitoes.append(Mosquito('M','N'))\n",
        "          else:\n",
        "            mosquitoes.append(FemaleMosquito('F','N'))"
      ],
      "execution_count": 0,
      "outputs": []
    },
    {
      "cell_type": "markdown",
      "metadata": {
        "id": "xfdyUYcIolRT",
        "colab_type": "text"
      },
      "source": [
        "**Inicialização dos Vetores**\n",
        "\n",
        "---"
      ]
    },
    {
      "cell_type": "code",
      "metadata": {
        "id": "01Eg11qtoBCm",
        "colab_type": "code",
        "colab": {}
      },
      "source": [
        "# Inicializando Lista de Mosquitos\n",
        "mosquitoes = []\n",
        "\n",
        "# Femeas Normais\n",
        "nF = nFemeas\n",
        "\n",
        "# Machos Normais\n",
        "nM = nMachos\n",
        "\n",
        "# Machos Trangenicos\n",
        "nM_tran = nMachosTran\n",
        "\n",
        "# Machos Normais\n",
        "for x in range(nM):\n",
        "      mosquitoes.append(Mosquito('M','N',))\n",
        "\n",
        "# Femeas\n",
        "for x in range(nF):\n",
        "      mosquitoes.append(FemaleMosquito('F', 'N'))\n"
      ],
      "execution_count": 0,
      "outputs": []
    },
    {
      "cell_type": "code",
      "metadata": {
        "id": "jzBggxvmvutP",
        "colab_type": "code",
        "colab": {}
      },
      "source": [
        "#for i in range(len(mosquitoes)):\n",
        "#   pprint(vars(mosquitoes[i]))"
      ],
      "execution_count": 0,
      "outputs": []
    },
    {
      "cell_type": "markdown",
      "metadata": {
        "id": "C0i_bugpqSq-",
        "colab_type": "text"
      },
      "source": [
        "**Definição da Simulação**\n",
        "\n",
        "---\n",
        "\n"
      ]
    },
    {
      "cell_type": "code",
      "metadata": {
        "id": "UtrZtQyXqSSu",
        "colab_type": "code",
        "colab": {}
      },
      "source": [
        "historico = np.zeros((sim_time))\n",
        "ntFemale = np.zeros((sim_time))\n",
        "ntMale = np.zeros((sim_time))\n",
        "ntMaleTran = np.zeros((sim_time))\n",
        "\n",
        "def Playsimulation(simtime):\n",
        "  for t in range (simtime):\n",
        "    historico[t] = len(mosquitoes)\n",
        "    ntFemale[t] = 0\n",
        "    ntMale[t] = 0\n",
        "    ntMaleTran[t] = 0\n",
        "\n",
        "    if (t == 408):\n",
        "      # Liberando Machos Trangenicos\n",
        "      for x in range(nM_tran):\n",
        "        mosquitoes.append(Mosquito('M','T', readyAge))\n",
        "\n",
        "    # if (t % 20 == 0): \n",
        "    #   pass\n",
        "    #   # print('time: ', t)\n",
        "    #   # print('list: ', len(mosquitoes))\n",
        "    #   # print('----------------------')\n",
        "\n",
        "    # Checar idade dos mosquitos\n",
        "    for _Mosquito in mosquitoes:\n",
        "      _Mosquito.increaseAge()\n",
        "      if(_Mosquito.checkDeathAge()):\n",
        "        # print('Death: ', _Mosquito.age)\n",
        "        _Mosquito.death(mosquitoes)\n",
        "      else:\n",
        "        if (_Mosquito.sex == 'F'): _Mosquito.increaseReadyToBreedDelay()\n",
        "        _Mosquito.flyRandomly()\n",
        "\n",
        "    # Checagens gerais dos mosquitos\n",
        "    for Mosquito_A in mosquitoes:\n",
        "      # Adição de Mosquitos para contabilização no historico\n",
        "      if (Mosquito_A.sex == 'F'): ntFemale[t] += 1\n",
        "      if (Mosquito_A.sex == 'M' and Mosquito_A.category == 'N'): ntMale[t] += 1\n",
        "      if (Mosquito_A.sex == 'M' and Mosquito_A.category == 'T'): ntMaleTran[t] += 1\n",
        "\n",
        "      for Mosquito_B in mosquitoes:\n",
        "        if (Mosquito_A.sex == 'F' and Mosquito_B.sex == 'M'):\n",
        "          if (Mosquito_A.checkColision(Mosquito_B)):\n",
        "            Mosquito_A.breeding(mosquitoes, Mosquito_B)"
      ],
      "execution_count": 0,
      "outputs": []
    },
    {
      "cell_type": "markdown",
      "metadata": {
        "id": "4czlNDeKqzPt",
        "colab_type": "text"
      },
      "source": [
        "**Executar Simulação**\n"
      ]
    },
    {
      "cell_type": "code",
      "metadata": {
        "id": "t0norYcJbZ4t",
        "colab_type": "code",
        "outputId": "e1d1a7ad-635b-4519-a6c2-d884022f451b",
        "colab": {
          "base_uri": "https://localhost:8080/",
          "height": 317
        }
      },
      "source": [
        "Playsimulation(sim_time)\n",
        "print('Média: ',np.mean(historico))\n",
        "print('Médiana: ',np.median(historico))\n",
        "print('Desvio Padrão: ',np.std(historico))\n",
        "\n",
        "# plt.plot(historico)\n",
        "plt.plot(ntFemale, '--r', label='Femas nomais')\n",
        "plt.plot(ntMale, '-.b', label='Machos normais')\n",
        "plt.plot(ntMaleTran, '-g', label='Machos trangenicos')\n",
        "plt.legend(framealpha=1, frameon=True);\n",
        "# plt.rcParams[\"figure.figsize\"] = (1,2)\n",
        "plt.show()\n",
        "\n",
        "\n",
        "# # for t in range(simtime):\n",
        "# #     femaleMosquitoes[0].flyRandomly()\n",
        "# #     for xx,mosquito in enumerate(femaleMosquitoes):\n",
        "# #         trajetoria[xx,t,0] = mosquito.px\n",
        "# #         trajetoria[xx,t,1] = mosquito.py"
      ],
      "execution_count": 20,
      "outputs": [
        {
          "output_type": "stream",
          "text": [
            "Média:  51.30277777777778\n",
            "Médiana:  34.0\n",
            "Desvio Padrão:  53.57834339705587\n"
          ],
          "name": "stdout"
        },
        {
          "output_type": "display_data",
          "data": {
            "image/png": "[encoded data removed]",
            "text/plain": [
              "<Figure size 432x288 with 1 Axes>"
            ]
          },
          "metadata": {
            "tags": []
          }
        }
      ]
    }
  ]
}